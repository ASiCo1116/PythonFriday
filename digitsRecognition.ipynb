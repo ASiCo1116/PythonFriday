{
 "cells": [
  {
   "cell_type": "code",
   "execution_count": 2,
   "metadata": {},
   "outputs": [],
   "source": [
    "%matplotlib inline\n",
    "import numpy as np\n",
    "import matplotlib.pyplot as plt"
   ]
  },
  {
   "cell_type": "code",
   "execution_count": 3,
   "metadata": {},
   "outputs": [
    {
     "name": "stderr",
     "output_type": "stream",
     "text": [
      "Using TensorFlow backend.\n"
     ]
    }
   ],
   "source": [
    "from keras.datasets import mnist\n",
    "from keras.utils import np_utils"
   ]
  },
  {
   "cell_type": "code",
   "execution_count": 4,
   "metadata": {},
   "outputs": [],
   "source": [
    "(x_train, y_train), (x_test, y_test) = mnist.load_data()"
   ]
  },
  {
   "cell_type": "code",
   "execution_count": 5,
   "metadata": {},
   "outputs": [],
   "source": [
    "x_train = x_train.reshape(60000, 28*28)\n",
    "x_test = x_test.reshape(10000, 28*28)"
   ]
  },
  {
   "cell_type": "markdown",
   "metadata": {},
   "source": [
    "# 標準化一下"
   ]
  },
  {
   "cell_type": "code",
   "execution_count": 6,
   "metadata": {},
   "outputs": [],
   "source": [
    "x_train = (x_train - x_train.min()) / (x_train.max() - x_train.min())\n",
    "x_test = (x_test - x_test.min()) / (x_test.max() - x_test.min())"
   ]
  },
  {
   "cell_type": "code",
   "execution_count": 7,
   "metadata": {},
   "outputs": [],
   "source": [
    "y_train = np_utils.to_categorical(y_train, 10)\n",
    "y_test = np_utils.to_categorical(y_test, 10)"
   ]
  },
  {
   "cell_type": "code",
   "execution_count": 8,
   "metadata": {},
   "outputs": [],
   "source": [
    "from keras.models import Sequential\n",
    "from keras.layers import Dense, Activation, Dropout, LeakyReLU"
   ]
  },
  {
   "cell_type": "markdown",
   "metadata": {},
   "source": [
    "# 用LeakyRelu當activation function"
   ]
  },
  {
   "cell_type": "code",
   "execution_count": 13,
   "metadata": {},
   "outputs": [
    {
     "name": "stdout",
     "output_type": "stream",
     "text": [
      "Epoch 1/30\n",
      "60000/60000 [==============================] - 34s 561us/step - loss: 0.3380 - acc: 0.8991\n",
      "Epoch 2/30\n",
      "60000/60000 [==============================] - 32s 537us/step - loss: 0.2106 - acc: 0.9394\n",
      "Epoch 3/30\n",
      "60000/60000 [==============================] - 32s 534us/step - loss: 0.1802 - acc: 0.9482\n",
      "Epoch 4/30\n",
      "60000/60000 [==============================] - 32s 538us/step - loss: 0.1614 - acc: 0.9537\n",
      "Epoch 5/30\n",
      "60000/60000 [==============================] - 32s 536us/step - loss: 0.1443 - acc: 0.9590\n",
      "Epoch 6/30\n",
      "60000/60000 [==============================] - 33s 543us/step - loss: 0.1374 - acc: 0.9613\n",
      "Epoch 7/30\n",
      "60000/60000 [==============================] - 32s 535us/step - loss: 0.1276 - acc: 0.9628\n",
      "Epoch 8/30\n",
      "60000/60000 [==============================] - 31s 521us/step - loss: 0.1253 - acc: 0.9649\n",
      "Epoch 9/30\n",
      "60000/60000 [==============================] - 33s 548us/step - loss: 0.1236 - acc: 0.9643\n",
      "Epoch 10/30\n",
      "60000/60000 [==============================] - 33s 547us/step - loss: 0.1151 - acc: 0.9679\n",
      "Epoch 11/30\n",
      "60000/60000 [==============================] - 33s 547us/step - loss: 0.1157 - acc: 0.9682\n",
      "Epoch 12/30\n",
      "60000/60000 [==============================] - 30s 508us/step - loss: 0.1054 - acc: 0.9704\n",
      "Epoch 13/30\n",
      "60000/60000 [==============================] - 31s 510us/step - loss: 0.1147 - acc: 0.9690\n",
      "Epoch 14/30\n",
      "60000/60000 [==============================] - 32s 533us/step - loss: 0.1103 - acc: 0.9698\n",
      "Epoch 15/30\n",
      "60000/60000 [==============================] - 33s 558us/step - loss: 0.1082 - acc: 0.9709\n",
      "Epoch 16/30\n",
      "60000/60000 [==============================] - 33s 551us/step - loss: 0.1073 - acc: 0.97110s - loss: 0.1071 - acc\n",
      "Epoch 17/30\n",
      "60000/60000 [==============================] - 34s 572us/step - loss: 0.0992 - acc: 0.9729\n",
      "Epoch 18/30\n",
      "60000/60000 [==============================] - 32s 532us/step - loss: 0.1072 - acc: 0.97183s - los\n",
      "Epoch 19/30\n",
      "60000/60000 [==============================] - 35s 576us/step - loss: 0.1087 - acc: 0.9711\n",
      "Epoch 20/30\n",
      "60000/60000 [==============================] - 34s 571us/step - loss: 0.1020 - acc: 0.9733\n",
      "Epoch 21/30\n",
      "60000/60000 [==============================] - 33s 549us/step - loss: 0.1100 - acc: 0.9715\n",
      "Epoch 22/30\n",
      "60000/60000 [==============================] - 33s 549us/step - loss: 0.0983 - acc: 0.9747\n",
      "Epoch 23/30\n",
      "60000/60000 [==============================] - 34s 561us/step - loss: 0.0913 - acc: 0.9757\n",
      "Epoch 24/30\n",
      "60000/60000 [==============================] - 33s 546us/step - loss: 0.1232 - acc: 0.9708\n",
      "Epoch 25/30\n",
      "60000/60000 [==============================] - 34s 567us/step - loss: 0.1057 - acc: 0.9740\n",
      "Epoch 26/30\n",
      "60000/60000 [==============================] - 33s 558us/step - loss: 0.0948 - acc: 0.9759\n",
      "Epoch 27/30\n",
      "60000/60000 [==============================] - 33s 552us/step - loss: 0.0885 - acc: 0.9779\n",
      "Epoch 28/30\n",
      "60000/60000 [==============================] - 33s 548us/step - loss: 0.1069 - acc: 0.9752\n",
      "Epoch 29/30\n",
      "60000/60000 [==============================] - 33s 547us/step - loss: 0.1196 - acc: 0.9733\n",
      "Epoch 30/30\n",
      "60000/60000 [==============================] - 33s 546us/step - loss: 0.1159 - acc: 0.9734\n",
      "10000/10000 [==============================] - 2s 202us/step\n",
      "Testing loss:  0.1293638259637169\n",
      "Testing acc:  0.9721\n"
     ]
    }
   ],
   "source": [
    "model_1 = Sequential()\n",
    "model_1.add(Dense(input_dim = 28 * 28, units = 1024))\n",
    "model_1.add(LeakyReLU(alpha = 0.3))\n",
    "model_1.add(Dropout(0.25))\n",
    "model_1.add(Dense(units = 1024))\n",
    "model_1.add(LeakyReLU(alpha = 0.3))\n",
    "model_1.add(Dropout(0.25))\n",
    "model_1.add(Dense(units = 512))\n",
    "model_1.add(LeakyReLU(alpha = 0.3))\n",
    "model_1.add(Dropout(0.25))\n",
    "model_1.add(Dense(units = 256))\n",
    "model_1.add(LeakyReLU(alpha = 0.3))\n",
    "model_1.add(Dropout(0.25))\n",
    "model_1.add(Dense(units = 128))\n",
    "model_1.add(LeakyReLU(alpha = 0.3))\n",
    "model_1.add(Dropout(0.25))\n",
    "model_1.add(Dense(units = 10))\n",
    "model_1.add(Activation('softmax'))\n",
    "\n",
    "model_1.compile(loss = 'categorical_crossentropy', optimizer = 'adam', metrics = ['accuracy'])\n",
    "model_1.fit(x_train, y_train, batch_size = 100, epochs = 30)\n",
    "score = model_1.evaluate(x_test, y_test)\n",
    "print('Testing loss: ', score[0])\n",
    "print('Testing acc: ', score[1])"
   ]
  },
  {
   "cell_type": "markdown",
   "metadata": {},
   "source": [
    "# 改用sigmoid"
   ]
  },
  {
   "cell_type": "code",
   "execution_count": 14,
   "metadata": {},
   "outputs": [
    {
     "name": "stdout",
     "output_type": "stream",
     "text": [
      "Epoch 1/30\n",
      "60000/60000 [==============================] - 35s 584us/step - loss: 0.8776 - acc: 0.7073\n",
      "Epoch 2/30\n",
      "60000/60000 [==============================] - 34s 567us/step - loss: 0.2478 - acc: 0.9332\n",
      "Epoch 3/30\n",
      "60000/60000 [==============================] - 34s 569us/step - loss: 0.1705 - acc: 0.9544\n",
      "Epoch 4/30\n",
      "60000/60000 [==============================] - 34s 566us/step - loss: 0.1352 - acc: 0.9621\n",
      "Epoch 5/30\n",
      "60000/60000 [==============================] - 33s 543us/step - loss: 0.1082 - acc: 0.9698\n",
      "Epoch 6/30\n",
      "60000/60000 [==============================] - 34s 563us/step - loss: 0.0920 - acc: 0.9742\n",
      "Epoch 7/30\n",
      "60000/60000 [==============================] - 34s 567us/step - loss: 0.0775 - acc: 0.9780\n",
      "Epoch 8/30\n",
      "60000/60000 [==============================] - 33s 556us/step - loss: 0.0674 - acc: 0.9807\n",
      "Epoch 9/30\n",
      "60000/60000 [==============================] - 34s 565us/step - loss: 0.0594 - acc: 0.9827\n",
      "Epoch 10/30\n",
      "60000/60000 [==============================] - 33s 550us/step - loss: 0.0520 - acc: 0.9849\n",
      "Epoch 11/30\n",
      "60000/60000 [==============================] - 33s 554us/step - loss: 0.0459 - acc: 0.9862\n",
      "Epoch 12/30\n",
      "60000/60000 [==============================] - 34s 559us/step - loss: 0.0412 - acc: 0.9880\n",
      "Epoch 13/30\n",
      "60000/60000 [==============================] - 32s 540us/step - loss: 0.0385 - acc: 0.9881\n",
      "Epoch 14/30\n",
      "60000/60000 [==============================] - 32s 526us/step - loss: 0.0338 - acc: 0.9902\n",
      "Epoch 15/30\n",
      "60000/60000 [==============================] - 33s 544us/step - loss: 0.0318 - acc: 0.9908\n",
      "Epoch 16/30\n",
      "60000/60000 [==============================] - 34s 560us/step - loss: 0.0286 - acc: 0.9917\n",
      "Epoch 17/30\n",
      "60000/60000 [==============================] - 33s 543us/step - loss: 0.0272 - acc: 0.9922\n",
      "Epoch 18/30\n",
      "60000/60000 [==============================] - 33s 546us/step - loss: 0.0240 - acc: 0.9928\n",
      "Epoch 19/30\n",
      "60000/60000 [==============================] - 34s 564us/step - loss: 0.0225 - acc: 0.9936\n",
      "Epoch 20/30\n",
      "60000/60000 [==============================] - 33s 555us/step - loss: 0.0223 - acc: 0.9934\n",
      "Epoch 21/30\n",
      "60000/60000 [==============================] - 32s 540us/step - loss: 0.0201 - acc: 0.9940\n",
      "Epoch 22/30\n",
      "60000/60000 [==============================] - 33s 551us/step - loss: 0.0182 - acc: 0.9948\n",
      "Epoch 23/30\n",
      "60000/60000 [==============================] - 33s 552us/step - loss: 0.0174 - acc: 0.9949\n",
      "Epoch 24/30\n",
      "60000/60000 [==============================] - 33s 556us/step - loss: 0.0163 - acc: 0.9952\n",
      "Epoch 25/30\n",
      "60000/60000 [==============================] - 34s 563us/step - loss: 0.0141 - acc: 0.9958\n",
      "Epoch 26/30\n",
      "60000/60000 [==============================] - 33s 542us/step - loss: 0.0161 - acc: 0.9955\n",
      "Epoch 27/30\n",
      "60000/60000 [==============================] - 34s 567us/step - loss: 0.0145 - acc: 0.9959\n",
      "Epoch 28/30\n",
      "60000/60000 [==============================] - 34s 570us/step - loss: 0.0120 - acc: 0.9962\n",
      "Epoch 29/30\n",
      "60000/60000 [==============================] - 33s 552us/step - loss: 0.0129 - acc: 0.9961\n",
      "Epoch 30/30\n",
      "60000/60000 [==============================] - 34s 570us/step - loss: 0.0124 - acc: 0.99630s - loss: 0.0124 -\n",
      "10000/10000 [==============================] - 2s 232us/step\n",
      "Testing loss:  0.08704412768329493\n",
      "Testing acc:  0.9842\n"
     ]
    }
   ],
   "source": [
    "model_2 = Sequential()\n",
    "model_2.add(Dense(input_dim = 28 * 28, units = 1024))\n",
    "model_2.add(Activation('sigmoid'))\n",
    "model_2.add(Dropout(0.25))\n",
    "model_2.add(Dense(units = 1024))\n",
    "model_2.add(Activation('sigmoid'))\n",
    "model_2.add(Dropout(0.25))\n",
    "model_2.add(Dense(units = 512))\n",
    "model_2.add(Activation('sigmoid'))\n",
    "model_2.add(Dropout(0.25))\n",
    "model_2.add(Dense(units = 256))\n",
    "model_2.add(Activation('sigmoid'))\n",
    "model_2.add(Dropout(0.25))\n",
    "model_2.add(Dense(units = 128))\n",
    "model_2.add(Activation('sigmoid'))\n",
    "model_2.add(Dropout(0.25))\n",
    "model_2.add(Dense(units = 10))\n",
    "model_2.add(Activation('softmax'))\n",
    "\n",
    "model_2.compile(loss = 'categorical_crossentropy', optimizer = 'adam', metrics = ['accuracy'])\n",
    "model_2.fit(x_train, y_train, batch_size = 100, epochs = 30)\n",
    "score = model_2.evaluate(x_test, y_test)\n",
    "print('Testing loss: ', score[0])\n",
    "print('Testing acc: ', score[1])"
   ]
  },
  {
   "cell_type": "markdown",
   "metadata": {},
   "source": [
    "# 結果差不了多少 一個97% 一個98%"
   ]
  },
  {
   "cell_type": "code",
   "execution_count": null,
   "metadata": {},
   "outputs": [],
   "source": []
  }
 ],
 "metadata": {
  "kernelspec": {
   "display_name": "Python 3",
   "language": "python",
   "name": "python3"
  },
  "language_info": {
   "codemirror_mode": {
    "name": "ipython",
    "version": 3
   },
   "file_extension": ".py",
   "mimetype": "text/x-python",
   "name": "python",
   "nbconvert_exporter": "python",
   "pygments_lexer": "ipython3",
   "version": "3.6.8"
  }
 },
 "nbformat": 4,
 "nbformat_minor": 2
}
