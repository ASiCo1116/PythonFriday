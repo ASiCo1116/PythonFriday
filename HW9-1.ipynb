{
 "cells": [
  {
   "cell_type": "markdown",
   "metadata": {},
   "source": [
    "# 實作Sequential 跟 Functional API兩種方法\n",
    "# BUT 模型一樣"
   ]
  },
  {
   "cell_type": "code",
   "execution_count": 1,
   "metadata": {},
   "outputs": [],
   "source": [
    "import numpy as np\n",
    "import matplotlib.pyplot as plt\n",
    "%matplotlib inline"
   ]
  },
  {
   "cell_type": "code",
   "execution_count": 2,
   "metadata": {},
   "outputs": [
    {
     "name": "stdout",
     "output_type": "stream",
     "text": [
      "env: KERAS_BACKEND=tensorflow\n"
     ]
    },
    {
     "name": "stderr",
     "output_type": "stream",
     "text": [
      "Using TensorFlow backend.\n"
     ]
    }
   ],
   "source": [
    "%env KERAS_BACKEND = tensorflow\n",
    "from keras.models import Sequential\n",
    "from keras.layers import Dense, Activation, Dropout, Conv2D, MaxPooling2D, LeakyReLU, Flatten\n",
    "from keras.datasets import mnist\n",
    "from keras.utils import np_utils\n",
    "from keras.optimizers import adam"
   ]
  },
  {
   "cell_type": "code",
   "execution_count": 3,
   "metadata": {},
   "outputs": [],
   "source": [
    "(x_train0, y_train0), (x_test0, y_test0) = mnist.load_data()"
   ]
  },
  {
   "cell_type": "code",
   "execution_count": 4,
   "metadata": {},
   "outputs": [],
   "source": [
    "x_train = x_train0\n",
    "x_test = x_test0\n",
    "\n",
    "x_train -= x_train0.min()\n",
    "x_train = x_train / x_train.max()\n",
    "\n",
    "x_test -= x_test0.min()\n",
    "x_test = x_test / x_test.max()"
   ]
  },
  {
   "cell_type": "code",
   "execution_count": 5,
   "metadata": {},
   "outputs": [],
   "source": [
    "y_train = np_utils.to_categorical(y_train0, 10)\n",
    "y_test = np_utils.to_categorical(y_test0, 10)"
   ]
  },
  {
   "cell_type": "code",
   "execution_count": 6,
   "metadata": {},
   "outputs": [],
   "source": [
    "x_train = x_train.reshape(x_train.shape[0], 28, 28, 1)\n",
    "x_test = x_test.reshape(x_test.shape[0], 28, 28, 1)"
   ]
  },
  {
   "cell_type": "code",
   "execution_count": 7,
   "metadata": {},
   "outputs": [
    {
     "data": {
      "text/plain": [
       "((60000, 28, 28, 1), (10000, 28, 28, 1))"
      ]
     },
     "execution_count": 7,
     "metadata": {},
     "output_type": "execute_result"
    }
   ],
   "source": [
    "x_train.shape, x_test.shape"
   ]
  },
  {
   "cell_type": "code",
   "execution_count": 8,
   "metadata": {},
   "outputs": [],
   "source": [
    "# x_train = x_train.reshape(x_train.shape[0], 28 * 28)\n",
    "# x_test = x_test.reshape(x_test.shape[0], 28 * 28)"
   ]
  },
  {
   "cell_type": "markdown",
   "metadata": {},
   "source": [
    "# model construction"
   ]
  },
  {
   "cell_type": "code",
   "execution_count": 9,
   "metadata": {},
   "outputs": [
    {
     "name": "stdout",
     "output_type": "stream",
     "text": [
      "WARNING:tensorflow:From c:\\users\\williamhsueh\\appdata\\local\\programs\\python\\python36\\lib\\site-packages\\tensorflow\\python\\framework\\op_def_library.py:263: colocate_with (from tensorflow.python.framework.ops) is deprecated and will be removed in a future version.\n",
      "Instructions for updating:\n",
      "Colocations handled automatically by placer.\n",
      "WARNING:tensorflow:From c:\\users\\williamhsueh\\appdata\\local\\programs\\python\\python36\\lib\\site-packages\\keras\\backend\\tensorflow_backend.py:3445: calling dropout (from tensorflow.python.ops.nn_ops) with keep_prob is deprecated and will be removed in a future version.\n",
      "Instructions for updating:\n",
      "Please use `rate` instead of `keep_prob`. Rate should be set to `rate = 1 - keep_prob`.\n"
     ]
    }
   ],
   "source": [
    "model_cnn = Sequential([\n",
    "    Conv2D(32, (3, 3), padding = 'same', input_shape = (28, 28, 1)),\n",
    "    MaxPooling2D(),\n",
    "    LeakyReLU(alpha = 0.3),\n",
    "    Dropout(0.25),\n",
    "    \n",
    "    Conv2D(32, (3, 3), padding = 'same'),\n",
    "    MaxPooling2D(),\n",
    "    LeakyReLU(alpha = 0.3),\n",
    "    Dropout(0.25), \n",
    "    \n",
    "    Flatten(),\n",
    "    Dense(128, activation = 'relu'),\n",
    "    Dropout(0.25),\n",
    "    Dense(32, activation = 'relu'), \n",
    "    Dropout(0.25), \n",
    "    Dense(10, activation = 'softmax')\n",
    "    \n",
    "])"
   ]
  },
  {
   "cell_type": "code",
   "execution_count": 10,
   "metadata": {},
   "outputs": [
    {
     "name": "stdout",
     "output_type": "stream",
     "text": [
      "_________________________________________________________________\n",
      "Layer (type)                 Output Shape              Param #   \n",
      "=================================================================\n",
      "conv2d_1 (Conv2D)            (None, 28, 28, 32)        320       \n",
      "_________________________________________________________________\n",
      "max_pooling2d_1 (MaxPooling2 (None, 14, 14, 32)        0         \n",
      "_________________________________________________________________\n",
      "leaky_re_lu_1 (LeakyReLU)    (None, 14, 14, 32)        0         \n",
      "_________________________________________________________________\n",
      "dropout_1 (Dropout)          (None, 14, 14, 32)        0         \n",
      "_________________________________________________________________\n",
      "conv2d_2 (Conv2D)            (None, 14, 14, 32)        9248      \n",
      "_________________________________________________________________\n",
      "max_pooling2d_2 (MaxPooling2 (None, 7, 7, 32)          0         \n",
      "_________________________________________________________________\n",
      "leaky_re_lu_2 (LeakyReLU)    (None, 7, 7, 32)          0         \n",
      "_________________________________________________________________\n",
      "dropout_2 (Dropout)          (None, 7, 7, 32)          0         \n",
      "_________________________________________________________________\n",
      "flatten_1 (Flatten)          (None, 1568)              0         \n",
      "_________________________________________________________________\n",
      "dense_1 (Dense)              (None, 128)               200832    \n",
      "_________________________________________________________________\n",
      "dropout_3 (Dropout)          (None, 128)               0         \n",
      "_________________________________________________________________\n",
      "dense_2 (Dense)              (None, 32)                4128      \n",
      "_________________________________________________________________\n",
      "dropout_4 (Dropout)          (None, 32)                0         \n",
      "_________________________________________________________________\n",
      "dense_3 (Dense)              (None, 10)                330       \n",
      "=================================================================\n",
      "Total params: 214,858\n",
      "Trainable params: 214,858\n",
      "Non-trainable params: 0\n",
      "_________________________________________________________________\n"
     ]
    }
   ],
   "source": [
    "model_cnn.summary()"
   ]
  },
  {
   "cell_type": "code",
   "execution_count": 11,
   "metadata": {},
   "outputs": [],
   "source": [
    "model_cnn.compile(optimizer = 'adam', loss = 'categorical_crossentropy', metrics = ['acc'])"
   ]
  },
  {
   "cell_type": "code",
   "execution_count": 12,
   "metadata": {},
   "outputs": [
    {
     "name": "stdout",
     "output_type": "stream",
     "text": [
      "WARNING:tensorflow:From c:\\users\\williamhsueh\\appdata\\local\\programs\\python\\python36\\lib\\site-packages\\tensorflow\\python\\ops\\math_ops.py:3066: to_int32 (from tensorflow.python.ops.math_ops) is deprecated and will be removed in a future version.\n",
      "Instructions for updating:\n",
      "Use tf.cast instead.\n",
      "Epoch 1/30\n",
      "60000/60000 [==============================] - 45s 752us/step - loss: 0.4238 - acc: 0.8651\n",
      "Epoch 2/30\n",
      "60000/60000 [==============================] - 45s 748us/step - loss: 0.1318 - acc: 0.9628\n",
      "Epoch 3/30\n",
      "60000/60000 [==============================] - 44s 735us/step - loss: 0.0979 - acc: 0.97231s - loss: 0.0982 - \n",
      "Epoch 4/30\n",
      "60000/60000 [==============================] - 44s 740us/step - loss: 0.0813 - acc: 0.9767\n",
      "Epoch 5/30\n",
      "60000/60000 [==============================] - 46s 773us/step - loss: 0.0727 - acc: 0.9792\n",
      "Epoch 6/30\n",
      "60000/60000 [==============================] - 47s 780us/step - loss: 0.0626 - acc: 0.98201s - loss: 0.\n",
      "Epoch 7/30\n",
      "60000/60000 [==============================] - 45s 756us/step - loss: 0.0555 - acc: 0.9842\n",
      "Epoch 8/30\n",
      "60000/60000 [==============================] - 45s 746us/step - loss: 0.0530 - acc: 0.9851\n",
      "Epoch 9/30\n",
      "60000/60000 [==============================] - 43s 711us/step - loss: 0.0506 - acc: 0.9859\n",
      "Epoch 10/30\n",
      "60000/60000 [==============================] - 43s 711us/step - loss: 0.0453 - acc: 0.9871\n",
      "Epoch 11/30\n",
      "60000/60000 [==============================] - 43s 710us/step - loss: 0.0431 - acc: 0.9870\n",
      "Epoch 12/30\n",
      "60000/60000 [==============================] - 43s 713us/step - loss: 0.0419 - acc: 0.9882\n",
      "Epoch 13/30\n",
      "60000/60000 [==============================] - 43s 709us/step - loss: 0.0381 - acc: 0.9889\n",
      "Epoch 14/30\n",
      "60000/60000 [==============================] - 43s 710us/step - loss: 0.0362 - acc: 0.9889\n",
      "Epoch 15/30\n",
      "60000/60000 [==============================] - 43s 710us/step - loss: 0.0361 - acc: 0.9894\n",
      "Epoch 16/30\n",
      "60000/60000 [==============================] - 43s 709us/step - loss: 0.0330 - acc: 0.9906\n",
      "Epoch 17/30\n",
      "60000/60000 [==============================] - 43s 712us/step - loss: 0.0326 - acc: 0.9903\n",
      "Epoch 18/30\n",
      "60000/60000 [==============================] - 43s 711us/step - loss: 0.0315 - acc: 0.99040s - loss: 0.0315 - \n",
      "Epoch 19/30\n",
      "60000/60000 [==============================] - 43s 712us/step - loss: 0.0325 - acc: 0.9908\n",
      "Epoch 20/30\n",
      "60000/60000 [==============================] - 42s 708us/step - loss: 0.0285 - acc: 0.9918\n",
      "Epoch 21/30\n",
      "60000/60000 [==============================] - 43s 711us/step - loss: 0.0290 - acc: 0.99160s - loss: 0.0291 - acc: 0.99\n",
      "Epoch 22/30\n",
      "60000/60000 [==============================] - 42s 707us/step - loss: 0.0321 - acc: 0.9908\n",
      "Epoch 23/30\n",
      "60000/60000 [==============================] - 43s 709us/step - loss: 0.0264 - acc: 0.9922\n",
      "Epoch 24/30\n",
      "60000/60000 [==============================] - 43s 713us/step - loss: 0.0272 - acc: 0.99190s - loss: 0.0272 - acc: 0.9\n",
      "Epoch 25/30\n",
      "60000/60000 [==============================] - 43s 717us/step - loss: 0.0259 - acc: 0.99252s - \n",
      "Epoch 26/30\n",
      "60000/60000 [==============================] - 43s 715us/step - loss: 0.0251 - acc: 0.9924\n",
      "Epoch 27/30\n",
      "60000/60000 [==============================] - 43s 713us/step - loss: 0.0235 - acc: 0.9930\n",
      "Epoch 28/30\n",
      "60000/60000 [==============================] - 43s 713us/step - loss: 0.0241 - acc: 0.9929\n",
      "Epoch 29/30\n",
      "60000/60000 [==============================] - 43s 711us/step - loss: 0.0242 - acc: 0.9934\n",
      "Epoch 30/30\n",
      "60000/60000 [==============================] - 43s 719us/step - loss: 0.0237 - acc: 0.9930\n",
      "10000/10000 [==============================] - 3s 265us/step\n"
     ]
    }
   ],
   "source": [
    "model_cnn_fit = model_cnn.fit(x_train, y_train, batch_size = 128, epochs = 30)\n",
    "score = model_cnn.evaluate(x_test, y_test)"
   ]
  },
  {
   "cell_type": "code",
   "execution_count": 13,
   "metadata": {},
   "outputs": [
    {
     "name": "stdout",
     "output_type": "stream",
     "text": [
      "Testing loss:  0.029775072792726995\n",
      "Testing acc:  0.9925\n"
     ]
    },
    {
     "data": {
      "image/png": "[encoded data removed]",
      "text/plain": [
       "<Figure size 432x288 with 1 Axes>"
      ]
     },
     "metadata": {
      "needs_background": "light"
     },
     "output_type": "display_data"
    }
   ],
   "source": [
    "plt.plot(model_cnn_fit.history['acc'])\n",
    "plt.title('training accuracy')\n",
    "plt.xlabel('epochs')\n",
    "plt.ylabel('accuracy')\n",
    "print('Testing loss: ', score[0])\n",
    "print('Testing acc: ', score[1])"
   ]
  },
  {
   "cell_type": "markdown",
   "metadata": {},
   "source": [
    "# 用Functional API"
   ]
  },
  {
   "cell_type": "code",
   "execution_count": 18,
   "metadata": {},
   "outputs": [],
   "source": [
    "from keras.layers import Input, concatenate, Softmax\n",
    "from keras.models import Model"
   ]
  },
  {
   "cell_type": "code",
   "execution_count": 19,
   "metadata": {},
   "outputs": [],
   "source": [
    "x = Input(shape = (28, 28, 1))\n",
    "conv1 = Conv2D(32, (3, 3), padding = 'same')\n",
    "max1 = MaxPooling2D()\n",
    "re1 = LeakyReLU(alpha = 0.3)\n",
    "dp1 = Dropout(0.25)\n",
    "conv2 = Conv2D(32, (3, 3), padding = 'same')\n",
    "max2 = MaxPooling2D()\n",
    "re2 = LeakyReLU(alpha = 0.3)\n",
    "dp2 = Dropout(0.25) \n",
    "flat = Flatten()\n",
    "fc1 = Dense(128, activation = 'relu')\n",
    "dp3 = Dropout(0.25)\n",
    "fc2 = Dense(32, activation = 'relu') \n",
    "dp4 = Dropout(0.25)\n",
    "fc3 = Dense(10, activation = 'softmax')"
   ]
  },
  {
   "cell_type": "code",
   "execution_count": 20,
   "metadata": {},
   "outputs": [],
   "source": [
    "out = fc3(dp4(fc2(dp3(fc1(flat(dp2(re2(max2(conv2(dp1(re1(max1(conv1(x))))))))))))))"
   ]
  },
  {
   "cell_type": "code",
   "execution_count": 21,
   "metadata": {},
   "outputs": [
    {
     "name": "stdout",
     "output_type": "stream",
     "text": [
      "_________________________________________________________________\n",
      "Layer (type)                 Output Shape              Param #   \n",
      "=================================================================\n",
      "input_2 (InputLayer)         (None, 28, 28, 1)         0         \n",
      "_________________________________________________________________\n",
      "conv2d_5 (Conv2D)            (None, 28, 28, 32)        320       \n",
      "_________________________________________________________________\n",
      "max_pooling2d_5 (MaxPooling2 (None, 14, 14, 32)        0         \n",
      "_________________________________________________________________\n",
      "leaky_re_lu_5 (LeakyReLU)    (None, 14, 14, 32)        0         \n",
      "_________________________________________________________________\n",
      "dropout_9 (Dropout)          (None, 14, 14, 32)        0         \n",
      "_________________________________________________________________\n",
      "conv2d_6 (Conv2D)            (None, 14, 14, 32)        9248      \n",
      "_________________________________________________________________\n",
      "max_pooling2d_6 (MaxPooling2 (None, 7, 7, 32)          0         \n",
      "_________________________________________________________________\n",
      "leaky_re_lu_6 (LeakyReLU)    (None, 7, 7, 32)          0         \n",
      "_________________________________________________________________\n",
      "dropout_10 (Dropout)         (None, 7, 7, 32)          0         \n",
      "_________________________________________________________________\n",
      "flatten_3 (Flatten)          (None, 1568)              0         \n",
      "_________________________________________________________________\n",
      "dense_7 (Dense)              (None, 128)               200832    \n",
      "_________________________________________________________________\n",
      "dropout_11 (Dropout)         (None, 128)               0         \n",
      "_________________________________________________________________\n",
      "dense_8 (Dense)              (None, 32)                4128      \n",
      "_________________________________________________________________\n",
      "dropout_12 (Dropout)         (None, 32)                0         \n",
      "_________________________________________________________________\n",
      "dense_9 (Dense)              (None, 10)                330       \n",
      "=================================================================\n",
      "Total params: 214,858\n",
      "Trainable params: 214,858\n",
      "Non-trainable params: 0\n",
      "_________________________________________________________________\n"
     ]
    }
   ],
   "source": [
    "model_api = Model(x, out)\n",
    "model_api.summary()"
   ]
  },
  {
   "cell_type": "code",
   "execution_count": 22,
   "metadata": {},
   "outputs": [],
   "source": [
    "model_api.compile(optimizer = 'adam', loss = 'categorical_crossentropy', metrics = ['acc'])"
   ]
  },
  {
   "cell_type": "code",
   "execution_count": 23,
   "metadata": {},
   "outputs": [
    {
     "name": "stdout",
     "output_type": "stream",
     "text": [
      "Epoch 1/30\n",
      "60000/60000 [==============================] - 48s 802us/step - loss: 0.4463 - acc: 0.8606\n",
      "Epoch 2/30\n",
      "60000/60000 [==============================] - 49s 815us/step - loss: 0.1428 - acc: 0.9606\n",
      "Epoch 3/30\n",
      "60000/60000 [==============================] - 50s 828us/step - loss: 0.1056 - acc: 0.9704\n",
      "Epoch 4/30\n",
      "60000/60000 [==============================] - 48s 803us/step - loss: 0.0849 - acc: 0.9761\n",
      "Epoch 5/30\n",
      "60000/60000 [==============================] - 46s 771us/step - loss: 0.0758 - acc: 0.97862s - \n",
      "Epoch 6/30\n",
      "60000/60000 [==============================] - 46s 764us/step - loss: 0.0664 - acc: 0.9817\n",
      "Epoch 7/30\n",
      "60000/60000 [==============================] - 47s 790us/step - loss: 0.0622 - acc: 0.9823\n",
      "Epoch 8/30\n",
      "60000/60000 [==============================] - 46s 766us/step - loss: 0.0577 - acc: 0.9836\n",
      "Epoch 9/30\n",
      "60000/60000 [==============================] - 48s 794us/step - loss: 0.0521 - acc: 0.9855\n",
      "Epoch 10/30\n",
      "60000/60000 [==============================] - 46s 774us/step - loss: 0.0480 - acc: 0.9863\n",
      "Epoch 11/30\n",
      "60000/60000 [==============================] - 46s 769us/step - loss: 0.0478 - acc: 0.9862\n",
      "Epoch 12/30\n",
      "60000/60000 [==============================] - 46s 766us/step - loss: 0.0438 - acc: 0.98781s - loss: 0.0436 \n",
      "Epoch 13/30\n",
      "60000/60000 [==============================] - 46s 772us/step - loss: 0.0413 - acc: 0.9877\n",
      "Epoch 14/30\n",
      "60000/60000 [==============================] - 46s 767us/step - loss: 0.0386 - acc: 0.9892\n",
      "Epoch 15/30\n",
      "60000/60000 [==============================] - 46s 772us/step - loss: 0.0373 - acc: 0.9891\n",
      "Epoch 16/30\n",
      "60000/60000 [==============================] - 46s 763us/step - loss: 0.0323 - acc: 0.9907\n",
      "Epoch 17/30\n",
      "60000/60000 [==============================] - 47s 790us/step - loss: 0.0352 - acc: 0.9900\n",
      "Epoch 18/30\n",
      "60000/60000 [==============================] - 47s 788us/step - loss: 0.0352 - acc: 0.9898\n",
      "Epoch 19/30\n",
      "60000/60000 [==============================] - 47s 791us/step - loss: 0.0315 - acc: 0.9906\n",
      "Epoch 20/30\n",
      "60000/60000 [==============================] - 45s 757us/step - loss: 0.0318 - acc: 0.9906\n",
      "Epoch 21/30\n",
      "60000/60000 [==============================] - 47s 778us/step - loss: 0.0320 - acc: 0.9908\n",
      "Epoch 22/30\n",
      "60000/60000 [==============================] - 46s 769us/step - loss: 0.0302 - acc: 0.9909\n",
      "Epoch 23/30\n",
      "60000/60000 [==============================] - 47s 786us/step - loss: 0.0288 - acc: 0.9918\n",
      "Epoch 24/30\n",
      "60000/60000 [==============================] - ETA: 0s - loss: 0.0306 - acc: 0.990 - 49s 822us/step - loss: 0.0305 - acc: 0.9907\n",
      "Epoch 25/30\n",
      "60000/60000 [==============================] - 48s 803us/step - loss: 0.0281 - acc: 0.9921\n",
      "Epoch 26/30\n",
      "60000/60000 [==============================] - 48s 807us/step - loss: 0.0272 - acc: 0.9918\n",
      "Epoch 27/30\n",
      "60000/60000 [==============================] - 48s 804us/step - loss: 0.0260 - acc: 0.9924\n",
      "Epoch 28/30\n",
      "60000/60000 [==============================] - 48s 797us/step - loss: 0.0255 - acc: 0.9925\n",
      "Epoch 29/30\n",
      "60000/60000 [==============================] - 47s 791us/step - loss: 0.0248 - acc: 0.9929\n",
      "Epoch 30/30\n",
      "60000/60000 [==============================] - 50s 829us/step - loss: 0.0252 - acc: 0.9925\n",
      "10000/10000 [==============================] - 3s 295us/step\n"
     ]
    }
   ],
   "source": [
    "model_api_fit = model_api.fit(x_train, y_train, batch_size = 128, epochs = 30)\n",
    "score = model_api.evaluate(x_test, y_test)"
   ]
  },
  {
   "cell_type": "code",
   "execution_count": 24,
   "metadata": {},
   "outputs": [
    {
     "name": "stdout",
     "output_type": "stream",
     "text": [
      "Testing loss:  0.026385290406289983\n",
      "Testing acc:  0.9933\n"
     ]
    },
    {
     "data": {
      "image/png": "[encoded data removed]",
      "text/plain": [
       "<Figure size 432x288 with 1 Axes>"
      ]
     },
     "metadata": {
      "needs_background": "light"
     },
     "output_type": "display_data"
    }
   ],
   "source": [
    "plt.plot(model_api_fit.history['acc'])\n",
    "plt.title('training accuracy')\n",
    "plt.xlabel('epochs')\n",
    "plt.ylabel('accuracy')\n",
    "print('Testing loss: ', score[0])\n",
    "print('Testing acc: ', score[1])"
   ]
  },
  {
   "cell_type": "markdown",
   "metadata": {},
   "source": [
    "# 結果相差不遠 合理"
   ]
  },
  {
   "cell_type": "code",
   "execution_count": null,
   "metadata": {},
   "outputs": [],
   "source": []
  }
 ],
 "metadata": {
  "kernelspec": {
   "display_name": "Python 3",
   "language": "python",
   "name": "python3"
  },
  "language_info": {
   "codemirror_mode": {
    "name": "ipython",
    "version": 3
   },
   "file_extension": ".py",
   "mimetype": "text/x-python",
   "name": "python",
   "nbconvert_exporter": "python",
   "pygments_lexer": "ipython3",
   "version": "3.6.8"
  }
 },
 "nbformat": 4,
 "nbformat_minor": 2
}
