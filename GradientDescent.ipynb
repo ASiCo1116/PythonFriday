{
 "cells": [
  {
   "cell_type": "markdown",
   "metadata": {},
   "source": [
    "# Loss function = sin(x)\n",
    "## 觀察learning rate 的影響"
   ]
  },
  {
   "cell_type": "code",
   "execution_count": 1,
   "metadata": {},
   "outputs": [],
   "source": [
    "import numpy as np\n",
    "import matplotlib.pyplot as plt\n",
    "from ipywidgets import interact\n",
    "%matplotlib inline"
   ]
  },
  {
   "cell_type": "code",
   "execution_count": 2,
   "metadata": {},
   "outputs": [],
   "source": [
    "def Gradient_descent(lr):\n",
    "    \n",
    "    def fn(y):\n",
    "        return np.cos(y)\n",
    "    \n",
    "    def gradi(lr, diff = fn):\n",
    "        epochs = 100\n",
    "        history = np.zeros(epochs + 1)    \n",
    "        y = 2.6    \n",
    "        history[0] = y\n",
    "        \n",
    "        for i in range(epochs):         \n",
    "            dy = diff(y)        \n",
    "            y += - dy * lr      \n",
    "            history[i + 1] = y   \n",
    "            \n",
    "        return history\n",
    "    \n",
    "    y = gradi(lr)\n",
    "    x = np.arange(0.0, 7.5, 0.01)\n",
    "    plt.plot(x, np.sin(x))\n",
    "    plt.plot(y, np.sin(y))    \n",
    "    plt.scatter(y, np.sin(y))"
   ]
  },
  {
   "cell_type": "code",
   "execution_count": 4,
   "metadata": {},
   "outputs": [
    {
     "data": {
      "application/vnd.jupyter.widget-view+json": {
       "model_id": "19f97fc9ce984606a2b315d83db91dad",
       "version_major": 2,
       "version_minor": 0
      },
      "text/plain": [
       "interactive(children=(FloatSlider(value=0.55, description='lr', max=1.0, min=0.1, step=0.001), Output()), _dom…"
      ]
     },
     "metadata": {},
     "output_type": "display_data"
    },
    {
     "data": {
      "text/plain": [
       "<function __main__.Gradient_descent(lr)>"
      ]
     },
     "execution_count": 4,
     "metadata": {},
     "output_type": "execute_result"
    }
   ],
   "source": [
    "interact(Gradient_descent, lr=(0.1, 1, 0.001))"
   ]
  },
  {
   "cell_type": "markdown",
   "metadata": {},
   "source": [
    "## 結論：Learning rate越大 進步幅度越大"
   ]
  },
  {
   "cell_type": "code",
   "execution_count": null,
   "metadata": {},
   "outputs": [],
   "source": []
  }
 ],
 "metadata": {
  "kernelspec": {
   "display_name": "Python 3",
   "language": "python",
   "name": "python3"
  },
  "language_info": {
   "codemirror_mode": {
    "name": "ipython",
    "version": 3
   },
   "file_extension": ".py",
   "mimetype": "text/x-python",
   "name": "python",
   "nbconvert_exporter": "python",
   "pygments_lexer": "ipython3",
   "version": "3.6.8"
  }
 },
 "nbformat": 4,
 "nbformat_minor": 2
}
