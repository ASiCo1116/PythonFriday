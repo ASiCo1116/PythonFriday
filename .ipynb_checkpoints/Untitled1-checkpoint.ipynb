{
 "cells": [
  {
   "cell_type": "code",
   "execution_count": 190,
   "metadata": {},
   "outputs": [],
   "source": [
    "import numpy as np\n",
    "import matplotlib.pyplot as plt\n",
    "import matplotlib.patches as pat\n",
    "from ipywidgets import interact"
   ]
  },
  {
   "cell_type": "code",
   "execution_count": 207,
   "metadata": {},
   "outputs": [
    {
     "data": {
      "image/png": "[encoded data removed]",
      "text/plain": [
       "<Figure size 432x288 with 1 Axes>"
      ]
     },
     "metadata": {
      "needs_background": "light"
     },
     "output_type": "display_data"
    }
   ],
   "source": [
    "x_h = np.random.random_sample(size = (1, 1000)) + 0.75\n",
    "y_h = np.random.random_sample(size = (1000, 1)) * 0.2 + 1\n",
    "\n",
    "x_v = np.random.random_sample(size = (1, 1000)) * 0.2 + 1.15\n",
    "y_v = np.random.random_sample(size = (1000, 1)) * 1.6\n",
    "\n",
    "A = pat.Arc(xy = (1.72,1.4), width = 1, height = 1 , theta1 = 90 ,theta2 = 180, linewidth = 20, edgecolor = '#ffffff')\n",
    "ax = plt.gca()\n",
    "ax.set_facecolor('#0066cc')\n",
    "ax.set_aspect('equal')\n",
    "ax.set_xlim((0, 2))\n",
    "ax.set_ylim((0, 2))\n",
    "ax.add_patch(A)\n",
    "ax.scatter(x_h, y_h, c = 'white')\n",
    "ax.scatter(x_v, y_v, c = 'white')\n",
    "\n",
    "plt.show()"
   ]
  },
  {
   "cell_type": "code",
   "execution_count": null,
   "metadata": {},
   "outputs": [],
   "source": []
  },
  {
   "cell_type": "code",
   "execution_count": null,
   "metadata": {},
   "outputs": [],
   "source": []
  },
  {
   "cell_type": "code",
   "execution_count": null,
   "metadata": {},
   "outputs": [],
   "source": []
  },
  {
   "cell_type": "code",
   "execution_count": null,
   "metadata": {},
   "outputs": [],
   "source": []
  }
 ],
 "metadata": {
  "kernelspec": {
   "display_name": "Python 3",
   "language": "python",
   "name": "python3"
  },
  "language_info": {
   "codemirror_mode": {
    "name": "ipython",
    "version": 3
   },
   "file_extension": ".py",
   "mimetype": "text/x-python",
   "name": "python",
   "nbconvert_exporter": "python",
   "pygments_lexer": "ipython3",
   "version": "3.6.8"
  }
 },
 "nbformat": 4,
 "nbformat_minor": 2
}
